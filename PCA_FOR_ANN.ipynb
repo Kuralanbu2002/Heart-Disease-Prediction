{
  "nbformat": 4,
  "nbformat_minor": 0,
  "metadata": {
    "colab": {
      "provenance": [],
      "authorship_tag": "ABX9TyM7dqZmizLhqbtdAYF4cgmq",
      "include_colab_link": true
    },
    "kernelspec": {
      "name": "python3",
      "display_name": "Python 3"
    },
    "language_info": {
      "name": "python"
    }
  },
  "cells": [
    {
      "cell_type": "markdown",
      "metadata": {
        "id": "view-in-github",
        "colab_type": "text"
      },
      "source": [
        "<a href=\"https://colab.research.google.com/github/saiachanta21/Heart-Disease-Prediction/blob/main/PCA_FOR_ANN.ipynb\" target=\"_parent\"><img src=\"https://colab.research.google.com/assets/colab-badge.svg\" alt=\"Open In Colab\"/></a>"
      ]
    },
    {
      "cell_type": "code",
      "execution_count": null,
      "metadata": {
        "id": "8ZNulRyoDjdY"
      },
      "outputs": [],
      "source": [
        " #Authors: Achanta Sai Krishna,Kuralanbu,Vimal Dharshan\n",
        "#Objective: To apply  neural network on the dataset using gaussian/radial activation function/sigmoid before normalization and after normalization and finding the accuracy of a different networks.\n",
        "#Input: Dataset\n",
        "#Output: Accuracy of the different networks.\n",
        "import sys\n",
        "import pandas as pd\n",
        "import numpy as np\n",
        "import sklearn\n",
        "import matplotlib\n",
        "import keras"
      ]
    },
    {
      "cell_type": "code",
      "source": [
        "import matplotlib.pyplot as plt\n",
        "from pandas.plotting import scatter_matrix\n",
        "import seaborn as sns\n",
        "# read the csv\n",
        "df = pd.read_csv('/content/framingham.csv')"
      ],
      "metadata": {
        "id": "VKp1VVDZDqwV"
      },
      "execution_count": null,
      "outputs": []
    },
    {
      "cell_type": "code",
      "source": [
        "df.head()\n"
      ],
      "metadata": {
        "colab": {
          "base_uri": "https://localhost:8080/",
          "height": 206
        },
        "id": "2rCEkVHDD0g-",
        "outputId": "bad90218-fcf1-42c0-d8ce-29589e4ae8a9"
      },
      "execution_count": null,
      "outputs": [
        {
          "output_type": "execute_result",
          "data": {
            "text/plain": [
              "   Sex  age  Chest Pain Type  currentSmoker  cigsPerDay  BPMeds  \\\n",
              "0    1   39                4              0           0       0   \n",
              "1    0   46                2              0           0       0   \n",
              "2    1   48                1              1          20       0   \n",
              "3    0   61                3              1          30       0   \n",
              "4    0   46                3              1          23       0   \n",
              "\n",
              "   prevalentStroke  prevalentHyp  diabetes  totChol  sysBP  diaBP    BMI  \\\n",
              "0                0             0         0      195  106.0   70.0  26.97   \n",
              "1                0             0         0      250  121.0   81.0  28.73   \n",
              "2                0             0         0      245  127.5   80.0  25.34   \n",
              "3                0             1         0      225  150.0   95.0  28.58   \n",
              "4                0             0         0      285  130.0   84.0  23.10   \n",
              "\n",
              "   heartRate  glucose  target  \n",
              "0         80       77       0  \n",
              "1         95       76       0  \n",
              "2         75       70       0  \n",
              "3         65      103       1  \n",
              "4         85       85       0  "
            ],
            "text/html": [
              "\n",
              "  <div id=\"df-8f9fa338-6e32-4d6d-a7e8-87053d8f65be\">\n",
              "    <div class=\"colab-df-container\">\n",
              "      <div>\n",
              "<style scoped>\n",
              "    .dataframe tbody tr th:only-of-type {\n",
              "        vertical-align: middle;\n",
              "    }\n",
              "\n",
              "    .dataframe tbody tr th {\n",
              "        vertical-align: top;\n",
              "    }\n",
              "\n",
              "    .dataframe thead th {\n",
              "        text-align: right;\n",
              "    }\n",
              "</style>\n",
              "<table border=\"1\" class=\"dataframe\">\n",
              "  <thead>\n",
              "    <tr style=\"text-align: right;\">\n",
              "      <th></th>\n",
              "      <th>Sex</th>\n",
              "      <th>age</th>\n",
              "      <th>Chest Pain Type</th>\n",
              "      <th>currentSmoker</th>\n",
              "      <th>cigsPerDay</th>\n",
              "      <th>BPMeds</th>\n",
              "      <th>prevalentStroke</th>\n",
              "      <th>prevalentHyp</th>\n",
              "      <th>diabetes</th>\n",
              "      <th>totChol</th>\n",
              "      <th>sysBP</th>\n",
              "      <th>diaBP</th>\n",
              "      <th>BMI</th>\n",
              "      <th>heartRate</th>\n",
              "      <th>glucose</th>\n",
              "      <th>target</th>\n",
              "    </tr>\n",
              "  </thead>\n",
              "  <tbody>\n",
              "    <tr>\n",
              "      <th>0</th>\n",
              "      <td>1</td>\n",
              "      <td>39</td>\n",
              "      <td>4</td>\n",
              "      <td>0</td>\n",
              "      <td>0</td>\n",
              "      <td>0</td>\n",
              "      <td>0</td>\n",
              "      <td>0</td>\n",
              "      <td>0</td>\n",
              "      <td>195</td>\n",
              "      <td>106.0</td>\n",
              "      <td>70.0</td>\n",
              "      <td>26.97</td>\n",
              "      <td>80</td>\n",
              "      <td>77</td>\n",
              "      <td>0</td>\n",
              "    </tr>\n",
              "    <tr>\n",
              "      <th>1</th>\n",
              "      <td>0</td>\n",
              "      <td>46</td>\n",
              "      <td>2</td>\n",
              "      <td>0</td>\n",
              "      <td>0</td>\n",
              "      <td>0</td>\n",
              "      <td>0</td>\n",
              "      <td>0</td>\n",
              "      <td>0</td>\n",
              "      <td>250</td>\n",
              "      <td>121.0</td>\n",
              "      <td>81.0</td>\n",
              "      <td>28.73</td>\n",
              "      <td>95</td>\n",
              "      <td>76</td>\n",
              "      <td>0</td>\n",
              "    </tr>\n",
              "    <tr>\n",
              "      <th>2</th>\n",
              "      <td>1</td>\n",
              "      <td>48</td>\n",
              "      <td>1</td>\n",
              "      <td>1</td>\n",
              "      <td>20</td>\n",
              "      <td>0</td>\n",
              "      <td>0</td>\n",
              "      <td>0</td>\n",
              "      <td>0</td>\n",
              "      <td>245</td>\n",
              "      <td>127.5</td>\n",
              "      <td>80.0</td>\n",
              "      <td>25.34</td>\n",
              "      <td>75</td>\n",
              "      <td>70</td>\n",
              "      <td>0</td>\n",
              "    </tr>\n",
              "    <tr>\n",
              "      <th>3</th>\n",
              "      <td>0</td>\n",
              "      <td>61</td>\n",
              "      <td>3</td>\n",
              "      <td>1</td>\n",
              "      <td>30</td>\n",
              "      <td>0</td>\n",
              "      <td>0</td>\n",
              "      <td>1</td>\n",
              "      <td>0</td>\n",
              "      <td>225</td>\n",
              "      <td>150.0</td>\n",
              "      <td>95.0</td>\n",
              "      <td>28.58</td>\n",
              "      <td>65</td>\n",
              "      <td>103</td>\n",
              "      <td>1</td>\n",
              "    </tr>\n",
              "    <tr>\n",
              "      <th>4</th>\n",
              "      <td>0</td>\n",
              "      <td>46</td>\n",
              "      <td>3</td>\n",
              "      <td>1</td>\n",
              "      <td>23</td>\n",
              "      <td>0</td>\n",
              "      <td>0</td>\n",
              "      <td>0</td>\n",
              "      <td>0</td>\n",
              "      <td>285</td>\n",
              "      <td>130.0</td>\n",
              "      <td>84.0</td>\n",
              "      <td>23.10</td>\n",
              "      <td>85</td>\n",
              "      <td>85</td>\n",
              "      <td>0</td>\n",
              "    </tr>\n",
              "  </tbody>\n",
              "</table>\n",
              "</div>\n",
              "      <button class=\"colab-df-convert\" onclick=\"convertToInteractive('df-8f9fa338-6e32-4d6d-a7e8-87053d8f65be')\"\n",
              "              title=\"Convert this dataframe to an interactive table.\"\n",
              "              style=\"display:none;\">\n",
              "        \n",
              "  <svg xmlns=\"http://www.w3.org/2000/svg\" height=\"24px\"viewBox=\"0 0 24 24\"\n",
              "       width=\"24px\">\n",
              "    <path d=\"M0 0h24v24H0V0z\" fill=\"none\"/>\n",
              "    <path d=\"M18.56 5.44l.94 2.06.94-2.06 2.06-.94-2.06-.94-.94-2.06-.94 2.06-2.06.94zm-11 1L8.5 8.5l.94-2.06 2.06-.94-2.06-.94L8.5 2.5l-.94 2.06-2.06.94zm10 10l.94 2.06.94-2.06 2.06-.94-2.06-.94-.94-2.06-.94 2.06-2.06.94z\"/><path d=\"M17.41 7.96l-1.37-1.37c-.4-.4-.92-.59-1.43-.59-.52 0-1.04.2-1.43.59L10.3 9.45l-7.72 7.72c-.78.78-.78 2.05 0 2.83L4 21.41c.39.39.9.59 1.41.59.51 0 1.02-.2 1.41-.59l7.78-7.78 2.81-2.81c.8-.78.8-2.07 0-2.86zM5.41 20L4 18.59l7.72-7.72 1.47 1.35L5.41 20z\"/>\n",
              "  </svg>\n",
              "      </button>\n",
              "      \n",
              "  <style>\n",
              "    .colab-df-container {\n",
              "      display:flex;\n",
              "      flex-wrap:wrap;\n",
              "      gap: 12px;\n",
              "    }\n",
              "\n",
              "    .colab-df-convert {\n",
              "      background-color: #E8F0FE;\n",
              "      border: none;\n",
              "      border-radius: 50%;\n",
              "      cursor: pointer;\n",
              "      display: none;\n",
              "      fill: #1967D2;\n",
              "      height: 32px;\n",
              "      padding: 0 0 0 0;\n",
              "      width: 32px;\n",
              "    }\n",
              "\n",
              "    .colab-df-convert:hover {\n",
              "      background-color: #E2EBFA;\n",
              "      box-shadow: 0px 1px 2px rgba(60, 64, 67, 0.3), 0px 1px 3px 1px rgba(60, 64, 67, 0.15);\n",
              "      fill: #174EA6;\n",
              "    }\n",
              "\n",
              "    [theme=dark] .colab-df-convert {\n",
              "      background-color: #3B4455;\n",
              "      fill: #D2E3FC;\n",
              "    }\n",
              "\n",
              "    [theme=dark] .colab-df-convert:hover {\n",
              "      background-color: #434B5C;\n",
              "      box-shadow: 0px 1px 3px 1px rgba(0, 0, 0, 0.15);\n",
              "      filter: drop-shadow(0px 1px 2px rgba(0, 0, 0, 0.3));\n",
              "      fill: #FFFFFF;\n",
              "    }\n",
              "  </style>\n",
              "\n",
              "      <script>\n",
              "        const buttonEl =\n",
              "          document.querySelector('#df-8f9fa338-6e32-4d6d-a7e8-87053d8f65be button.colab-df-convert');\n",
              "        buttonEl.style.display =\n",
              "          google.colab.kernel.accessAllowed ? 'block' : 'none';\n",
              "\n",
              "        async function convertToInteractive(key) {\n",
              "          const element = document.querySelector('#df-8f9fa338-6e32-4d6d-a7e8-87053d8f65be');\n",
              "          const dataTable =\n",
              "            await google.colab.kernel.invokeFunction('convertToInteractive',\n",
              "                                                     [key], {});\n",
              "          if (!dataTable) return;\n",
              "\n",
              "          const docLinkHtml = 'Like what you see? Visit the ' +\n",
              "            '<a target=\"_blank\" href=https://colab.research.google.com/notebooks/data_table.ipynb>data table notebook</a>'\n",
              "            + ' to learn more about interactive tables.';\n",
              "          element.innerHTML = '';\n",
              "          dataTable['output_type'] = 'display_data';\n",
              "          await google.colab.output.renderOutput(dataTable, element);\n",
              "          const docLink = document.createElement('div');\n",
              "          docLink.innerHTML = docLinkHtml;\n",
              "          element.appendChild(docLink);\n",
              "        }\n",
              "      </script>\n",
              "    </div>\n",
              "  </div>\n",
              "  "
            ]
          },
          "metadata": {},
          "execution_count": 131
        }
      ]
    },
    {
      "cell_type": "code",
      "source": [
        "from sklearn.preprocessing import StandardScaler\n",
        "scaler=StandardScaler()\n",
        "scaler.fit(df.drop(\"target\", axis=1))\n",
        "scaled_data=scaler.transform(df.drop(\"target\", axis=1))\n",
        "scaled_data.shape\n",
        "from sklearn.decomposition import PCA\n",
        "pca = PCA(n_components = 2)\n",
        "pca.fit(scaled_data)\n",
        "x_pca=pca.transform(scaled_data)\n",
        "scaled_data.shape\n",
        "\n",
        "x_pca.shape\n"
      ],
      "metadata": {
        "colab": {
          "base_uri": "https://localhost:8080/"
        },
        "id": "7oOAXQw0gGHS",
        "outputId": "4e69ee89-9fcb-4a10-d067-38d84649ee36"
      },
      "execution_count": null,
      "outputs": [
        {
          "output_type": "execute_result",
          "data": {
            "text/plain": [
              "(4240, 2)"
            ]
          },
          "metadata": {},
          "execution_count": 132
        }
      ]
    },
    {
      "cell_type": "code",
      "source": [
        "# Load dataset\n",
        "data = df\n",
        "# Get features and target\n",
        "X= x_pca\n",
        "y=df.target"
      ],
      "metadata": {
        "id": "O1AU76uIgmjm"
      },
      "execution_count": null,
      "outputs": []
    },
    {
      "cell_type": "code",
      "source": [
        "# create X and Y datasets for training\n",
        "from sklearn import model_selection\n",
        "\n",
        "X_train, X_test, y_train, y_test = model_selection.train_test_split(X, y, stratify=y, random_state=42, test_size = 0.25)#test_train split with test size=25% and train size=75%"
      ],
      "metadata": {
        "id": "QM5lhCOGg9mN"
      },
      "execution_count": null,
      "outputs": []
    },
    {
      "cell_type": "code",
      "source": [
        "# convert the data to categorical labels\n",
        "from keras.utils.np_utils import to_categorical\n",
        "\n",
        "Y_train = to_categorical(y_train, num_classes=None)\n",
        "Y_test = to_categorical(y_test, num_classes=None)\n",
        "print (Y_train.shape)\n",
        "print (Y_train[:10])"
      ],
      "metadata": {
        "colab": {
          "base_uri": "https://localhost:8080/"
        },
        "id": "58iLbgtAhBEZ",
        "outputId": "98b3bb3c-a508-4112-c19b-031cb6fbca47"
      },
      "execution_count": null,
      "outputs": [
        {
          "output_type": "stream",
          "name": "stdout",
          "text": [
            "(3180, 2)\n",
            "[[1. 0.]\n",
            " [1. 0.]\n",
            " [1. 0.]\n",
            " [1. 0.]\n",
            " [0. 1.]\n",
            " [1. 0.]\n",
            " [1. 0.]\n",
            " [1. 0.]\n",
            " [1. 0.]\n",
            " [1. 0.]]\n"
          ]
        }
      ]
    },
    {
      "cell_type": "code",
      "source": [
        "X_train[0]"
      ],
      "metadata": {
        "colab": {
          "base_uri": "https://localhost:8080/"
        },
        "id": "_naBPiFzhFC9",
        "outputId": "2264f123-d13c-4c55-9cba-6de05c283824"
      },
      "execution_count": null,
      "outputs": [
        {
          "output_type": "execute_result",
          "data": {
            "text/plain": [
              "array([-1.62099663, -1.76007512])"
            ]
          },
          "metadata": {},
          "execution_count": 136
        }
      ]
    },
    {
      "cell_type": "code",
      "source": [
        "from keras.models import Sequential\n",
        "from keras.layers import Dense\n",
        "from keras.optimizers import Adam\n",
        "from keras.layers import Dropout\n",
        "from keras import regularizers\n",
        "\n",
        "# define a function to build the keras model\n",
        "def create_model():\n",
        "    # create model\n",
        "    model = Sequential()\n",
        "    model.add(Dense(16, input_dim=2, kernel_initializer='normal', activation='gelu'))\n",
        "    model.add(Dense(8, kernel_initializer='normal',activation='gelu'))\n",
        "    model.add(Dense(2, activation='gelu'))\n",
        "\n",
        "    # compile model\n",
        "    adam = Adam(learning_rate=0.01)\n",
        "    model.compile(loss='categorical_crossentropy', optimizer='rmsprop', metrics=['accuracy'])\n",
        "    return model\n",
        "\n",
        "model = create_model()\n",
        "\n",
        "print(model.summary())"
      ],
      "metadata": {
        "colab": {
          "base_uri": "https://localhost:8080/"
        },
        "id": "E8yQB157hJSp",
        "outputId": "b94129be-11df-4b03-ae1e-ae9cfc2ac0d8"
      },
      "execution_count": null,
      "outputs": [
        {
          "output_type": "stream",
          "name": "stdout",
          "text": [
            "Model: \"sequential_9\"\n",
            "_________________________________________________________________\n",
            " Layer (type)                Output Shape              Param #   \n",
            "=================================================================\n",
            " dense_27 (Dense)            (None, 16)                48        \n",
            "                                                                 \n",
            " dense_28 (Dense)            (None, 8)                 136       \n",
            "                                                                 \n",
            " dense_29 (Dense)            (None, 2)                 18        \n",
            "                                                                 \n",
            "=================================================================\n",
            "Total params: 202\n",
            "Trainable params: 202\n",
            "Non-trainable params: 0\n",
            "_________________________________________________________________\n",
            "None\n"
          ]
        }
      ]
    },
    {
      "cell_type": "code",
      "source": [
        "# fit the model to the training data\n",
        "history=model.fit(X_train, Y_train, validation_data=(X_test, Y_test),epochs=50, batch_size=10)"
      ],
      "metadata": {
        "colab": {
          "base_uri": "https://localhost:8080/"
        },
        "id": "l_OAlVaKhMxR",
        "outputId": "124f01ee-b32b-46e5-faea-b77c1c5d7f4a"
      },
      "execution_count": null,
      "outputs": [
        {
          "output_type": "stream",
          "name": "stdout",
          "text": [
            "Epoch 1/50\n",
            "318/318 [==============================] - 2s 3ms/step - loss: 0.8953 - accuracy: 0.6959 - val_loss: 0.4057 - val_accuracy: 0.8481\n",
            "Epoch 2/50\n",
            "318/318 [==============================] - 1s 2ms/step - loss: 0.4339 - accuracy: 0.8481 - val_loss: 0.4105 - val_accuracy: 0.8481\n",
            "Epoch 3/50\n",
            "318/318 [==============================] - 1s 2ms/step - loss: 0.4600 - accuracy: 0.8478 - val_loss: 0.4466 - val_accuracy: 0.8481\n",
            "Epoch 4/50\n",
            "318/318 [==============================] - 1s 2ms/step - loss: 0.4450 - accuracy: 0.8481 - val_loss: 0.4203 - val_accuracy: 0.8481\n",
            "Epoch 5/50\n",
            "318/318 [==============================] - 1s 2ms/step - loss: 0.4260 - accuracy: 0.8481 - val_loss: 0.4606 - val_accuracy: 0.8481\n",
            "Epoch 6/50\n",
            "318/318 [==============================] - 1s 2ms/step - loss: 0.4315 - accuracy: 0.8478 - val_loss: 0.4445 - val_accuracy: 0.8481\n",
            "Epoch 7/50\n",
            "318/318 [==============================] - 1s 2ms/step - loss: 0.4488 - accuracy: 0.8481 - val_loss: 0.4246 - val_accuracy: 0.8481\n",
            "Epoch 8/50\n",
            "318/318 [==============================] - 1s 2ms/step - loss: 0.4391 - accuracy: 0.8487 - val_loss: 0.4106 - val_accuracy: 0.8481\n",
            "Epoch 9/50\n",
            "318/318 [==============================] - 1s 2ms/step - loss: 0.4704 - accuracy: 0.8491 - val_loss: 0.4434 - val_accuracy: 0.8481\n",
            "Epoch 10/50\n",
            "318/318 [==============================] - 1s 2ms/step - loss: 0.4184 - accuracy: 0.8487 - val_loss: 0.4325 - val_accuracy: 0.8491\n",
            "Epoch 11/50\n",
            "318/318 [==============================] - 1s 2ms/step - loss: 0.4463 - accuracy: 0.8487 - val_loss: 0.5160 - val_accuracy: 0.8500\n",
            "Epoch 12/50\n",
            "318/318 [==============================] - 1s 2ms/step - loss: 0.4410 - accuracy: 0.8500 - val_loss: 0.4498 - val_accuracy: 0.8491\n",
            "Epoch 13/50\n",
            "318/318 [==============================] - 1s 2ms/step - loss: 0.4624 - accuracy: 0.8484 - val_loss: 0.5062 - val_accuracy: 0.8500\n",
            "Epoch 14/50\n",
            "318/318 [==============================] - 1s 2ms/step - loss: 0.4649 - accuracy: 0.8484 - val_loss: 0.7007 - val_accuracy: 0.8481\n",
            "Epoch 15/50\n",
            "318/318 [==============================] - 1s 2ms/step - loss: 0.6397 - accuracy: 0.7692 - val_loss: 0.6167 - val_accuracy: 0.6566\n",
            "Epoch 16/50\n",
            "318/318 [==============================] - 1s 2ms/step - loss: 0.5120 - accuracy: 0.6660 - val_loss: 0.6447 - val_accuracy: 0.7368\n",
            "Epoch 17/50\n",
            "318/318 [==============================] - 1s 2ms/step - loss: 0.5104 - accuracy: 0.7648 - val_loss: 0.5203 - val_accuracy: 0.7604\n",
            "Epoch 18/50\n",
            "318/318 [==============================] - 1s 2ms/step - loss: 0.5345 - accuracy: 0.7079 - val_loss: 0.4685 - val_accuracy: 0.6896\n",
            "Epoch 19/50\n",
            "318/318 [==============================] - 1s 2ms/step - loss: 0.5153 - accuracy: 0.7723 - val_loss: 0.4251 - val_accuracy: 0.7991\n",
            "Epoch 20/50\n",
            "318/318 [==============================] - 1s 2ms/step - loss: 0.5247 - accuracy: 0.8066 - val_loss: 0.7581 - val_accuracy: 0.7962\n",
            "Epoch 21/50\n",
            "318/318 [==============================] - 1s 2ms/step - loss: 0.5232 - accuracy: 0.7349 - val_loss: 0.5518 - val_accuracy: 0.7226\n",
            "Epoch 22/50\n",
            "318/318 [==============================] - 1s 2ms/step - loss: 0.5123 - accuracy: 0.7252 - val_loss: 0.6832 - val_accuracy: 0.7481\n",
            "Epoch 23/50\n",
            "318/318 [==============================] - 1s 2ms/step - loss: 0.5152 - accuracy: 0.7097 - val_loss: 0.4680 - val_accuracy: 0.7651\n",
            "Epoch 24/50\n",
            "318/318 [==============================] - 1s 2ms/step - loss: 0.5411 - accuracy: 0.7755 - val_loss: 0.4994 - val_accuracy: 0.7623\n",
            "Epoch 25/50\n",
            "318/318 [==============================] - 1s 2ms/step - loss: 0.4877 - accuracy: 0.7031 - val_loss: 0.5157 - val_accuracy: 0.6868\n",
            "Epoch 26/50\n",
            "318/318 [==============================] - 1s 2ms/step - loss: 0.5097 - accuracy: 0.7409 - val_loss: 0.4834 - val_accuracy: 0.7387\n",
            "Epoch 27/50\n",
            "318/318 [==============================] - 1s 2ms/step - loss: 0.4808 - accuracy: 0.7824 - val_loss: 0.5134 - val_accuracy: 0.7255\n",
            "Epoch 28/50\n",
            "318/318 [==============================] - 1s 2ms/step - loss: 0.5247 - accuracy: 0.7500 - val_loss: 0.4773 - val_accuracy: 0.7019\n",
            "Epoch 29/50\n",
            "318/318 [==============================] - 1s 2ms/step - loss: 0.4523 - accuracy: 0.6827 - val_loss: 0.4948 - val_accuracy: 0.6755\n",
            "Epoch 30/50\n",
            "318/318 [==============================] - 1s 2ms/step - loss: 0.5158 - accuracy: 0.7022 - val_loss: 0.4917 - val_accuracy: 0.6698\n",
            "Epoch 31/50\n",
            "318/318 [==============================] - 1s 2ms/step - loss: 0.5451 - accuracy: 0.6918 - val_loss: 0.4944 - val_accuracy: 0.7226\n",
            "Epoch 32/50\n",
            "318/318 [==============================] - 1s 2ms/step - loss: 0.5004 - accuracy: 0.6830 - val_loss: 0.6329 - val_accuracy: 0.6802\n",
            "Epoch 33/50\n",
            "318/318 [==============================] - 1s 2ms/step - loss: 0.5445 - accuracy: 0.6997 - val_loss: 0.4939 - val_accuracy: 0.6717\n",
            "Epoch 34/50\n",
            "318/318 [==============================] - 1s 2ms/step - loss: 0.5106 - accuracy: 0.6604 - val_loss: 0.4896 - val_accuracy: 0.7292\n",
            "Epoch 35/50\n",
            "318/318 [==============================] - 1s 2ms/step - loss: 0.4946 - accuracy: 0.7145 - val_loss: 0.4500 - val_accuracy: 0.7830\n",
            "Epoch 36/50\n",
            "318/318 [==============================] - 1s 2ms/step - loss: 0.4961 - accuracy: 0.8035 - val_loss: 0.5055 - val_accuracy: 0.8217\n",
            "Epoch 37/50\n",
            "318/318 [==============================] - 1s 2ms/step - loss: 0.4495 - accuracy: 0.8412 - val_loss: 0.4428 - val_accuracy: 0.8434\n",
            "Epoch 38/50\n",
            "318/318 [==============================] - 1s 2ms/step - loss: 0.5080 - accuracy: 0.8044 - val_loss: 0.5510 - val_accuracy: 0.7160\n",
            "Epoch 39/50\n",
            "318/318 [==============================] - 1s 2ms/step - loss: 0.5355 - accuracy: 0.7053 - val_loss: 0.4382 - val_accuracy: 0.6689\n",
            "Epoch 40/50\n",
            "318/318 [==============================] - 1s 2ms/step - loss: 0.5107 - accuracy: 0.6525 - val_loss: 0.5212 - val_accuracy: 0.6198\n",
            "Epoch 41/50\n",
            "318/318 [==============================] - 1s 2ms/step - loss: 0.4874 - accuracy: 0.6318 - val_loss: 0.4555 - val_accuracy: 0.6575\n",
            "Epoch 42/50\n",
            "318/318 [==============================] - 1s 2ms/step - loss: 0.5079 - accuracy: 0.6704 - val_loss: 0.4598 - val_accuracy: 0.7377\n",
            "Epoch 43/50\n",
            "318/318 [==============================] - 1s 2ms/step - loss: 0.5263 - accuracy: 0.6764 - val_loss: 0.4944 - val_accuracy: 0.6519\n",
            "Epoch 44/50\n",
            "318/318 [==============================] - 1s 2ms/step - loss: 0.5261 - accuracy: 0.6248 - val_loss: 0.6090 - val_accuracy: 0.6623\n",
            "Epoch 45/50\n",
            "318/318 [==============================] - 1s 2ms/step - loss: 0.5156 - accuracy: 0.7038 - val_loss: 0.5067 - val_accuracy: 0.6906\n",
            "Epoch 46/50\n",
            "318/318 [==============================] - 1s 2ms/step - loss: 0.4742 - accuracy: 0.7097 - val_loss: 0.4444 - val_accuracy: 0.7123\n",
            "Epoch 47/50\n",
            "318/318 [==============================] - 1s 2ms/step - loss: 0.4847 - accuracy: 0.7692 - val_loss: 0.4909 - val_accuracy: 0.8170\n",
            "Epoch 48/50\n",
            "318/318 [==============================] - 1s 3ms/step - loss: 0.4630 - accuracy: 0.8336 - val_loss: 0.4756 - val_accuracy: 0.8377\n",
            "Epoch 49/50\n",
            "318/318 [==============================] - 1s 2ms/step - loss: 0.4894 - accuracy: 0.7940 - val_loss: 0.4399 - val_accuracy: 0.6858\n",
            "Epoch 50/50\n",
            "318/318 [==============================] - 1s 2ms/step - loss: 0.4873 - accuracy: 0.6890 - val_loss: 0.4542 - val_accuracy: 0.6472\n"
          ]
        }
      ]
    },
    {
      "cell_type": "code",
      "source": [
        "# generate classification report using predictions for categorical model\n",
        "from sklearn.metrics import accuracy_score\n",
        "\n",
        "categorical_pred = np.argmax(model.predict(X_test), axis=1)\n",
        "\n",
        "print('Accuracy for radial basis network')\n",
        "print(accuracy_score(y_test, categorical_pred)*100)"
      ],
      "metadata": {
        "colab": {
          "base_uri": "https://localhost:8080/"
        },
        "id": "gNi8MJ5uhPrq",
        "outputId": "708438eb-e2b9-4847-976f-a4ea49ec4aaf"
      },
      "execution_count": null,
      "outputs": [
        {
          "output_type": "stream",
          "name": "stdout",
          "text": [
            "34/34 [==============================] - 0s 1ms/step\n",
            "Accuracy for radial basis network\n",
            "64.71698113207547\n"
          ]
        }
      ]
    },
    {
      "cell_type": "code",
      "source": [
        "import matplotlib.pyplot as plt\n",
        "%matplotlib inline\n",
        "# Model accuracy\n",
        "plt.plot(history.history['accuracy'])\n",
        "plt.plot(history.history['val_accuracy'])\n",
        "plt.title('Model Accuracy')\n",
        "plt.ylabel('accuracy')\n",
        "plt.xlabel('epoch')\n",
        "plt.legend(['train', 'test'])\n",
        "plt.show()"
      ],
      "metadata": {
        "colab": {
          "base_uri": "https://localhost:8080/",
          "height": 295
        },
        "id": "3xnyKdT0hbsE",
        "outputId": "c4e51b45-55c7-4acb-a8f3-6991b5f90dc7"
      },
      "execution_count": null,
      "outputs": [
        {
          "output_type": "display_data",
          "data": {
            "text/plain": [
              "<Figure size 432x288 with 1 Axes>"
            ],
            "image/png": "[encoded data removed]"
          },
          "metadata": {
            "needs_background": "light"
          }
        }
      ]
    },
    {
      "cell_type": "code",
      "source": [
        "# Model Losss\n",
        "plt.plot(history.history['loss'])\n",
        "plt.plot(history.history['val_loss'])\n",
        "plt.title('Model Loss')\n",
        "plt.ylabel('loss')\n",
        "plt.xlabel('epoch')\n",
        "plt.legend(['train', 'test'])\n",
        "plt.show()"
      ],
      "metadata": {
        "colab": {
          "base_uri": "https://localhost:8080/",
          "height": 295
        },
        "id": "e8XUdePwhfKA",
        "outputId": "f194ecb0-1c20-4f1e-aa64-123dd90d1e54"
      },
      "execution_count": null,
      "outputs": [
        {
          "output_type": "display_data",
          "data": {
            "text/plain": [
              "<Figure size 432x288 with 1 Axes>"
            ],
            "image/png": "[encoded data removed]"
          },
          "metadata": {
            "needs_background": "light"
          }
        }
      ]
    },
    {
      "cell_type": "code",
      "source": [
        "from keras.models import Sequential\n",
        "from keras.layers import Dense\n",
        "from keras.optimizers import Adam\n",
        "from keras.layers import Dropout\n",
        "from keras import regularizers\n",
        "\n",
        "# define a function to build the keras model\n",
        "def create_model():\n",
        "    # create model\n",
        "    model = Sequential()\n",
        "    model.add(Dense(16, input_dim=2, kernel_initializer='normal', activation='sigmoid'))\n",
        "    model.add(Dense(8, kernel_initializer='normal',activation='sigmoid'))\n",
        "    model.add(Dense(2, activation='sigmoid'))\n",
        "\n",
        "    # compile model\n",
        "    adam = Adam(learning_rate=0.01)\n",
        "    model.compile(loss='categorical_crossentropy', optimizer='rmsprop', metrics=['accuracy'])\n",
        "    return model\n",
        "\n",
        "model = create_model()\n",
        "\n",
        "print(model.summary())"
      ],
      "metadata": {
        "colab": {
          "base_uri": "https://localhost:8080/"
        },
        "id": "et1YfqaKhizE",
        "outputId": "a1a58f1e-f366-42fe-9928-962c8d244dbe"
      },
      "execution_count": null,
      "outputs": [
        {
          "output_type": "stream",
          "name": "stdout",
          "text": [
            "Model: \"sequential_10\"\n",
            "_________________________________________________________________\n",
            " Layer (type)                Output Shape              Param #   \n",
            "=================================================================\n",
            " dense_30 (Dense)            (None, 16)                48        \n",
            "                                                                 \n",
            " dense_31 (Dense)            (None, 8)                 136       \n",
            "                                                                 \n",
            " dense_32 (Dense)            (None, 2)                 18        \n",
            "                                                                 \n",
            "=================================================================\n",
            "Total params: 202\n",
            "Trainable params: 202\n",
            "Non-trainable params: 0\n",
            "_________________________________________________________________\n",
            "None\n"
          ]
        }
      ]
    },
    {
      "cell_type": "code",
      "source": [
        "# fit the model to the training data\n",
        "history=model.fit(X_train, Y_train, validation_data=(X_test, Y_test),epochs=50, batch_size=10)"
      ],
      "metadata": {
        "colab": {
          "base_uri": "https://localhost:8080/"
        },
        "id": "6EL4A1EqhnQM",
        "outputId": "e5585df2-18ab-4974-84b0-07ebf5600a74"
      },
      "execution_count": null,
      "outputs": [
        {
          "output_type": "stream",
          "name": "stdout",
          "text": [
            "Epoch 1/50\n",
            "318/318 [==============================] - 1s 3ms/step - loss: 0.4294 - accuracy: 0.8481 - val_loss: 0.4216 - val_accuracy: 0.8481\n",
            "Epoch 2/50\n",
            "318/318 [==============================] - 1s 2ms/step - loss: 0.4169 - accuracy: 0.8481 - val_loss: 0.4147 - val_accuracy: 0.8481\n",
            "Epoch 3/50\n",
            "318/318 [==============================] - 1s 2ms/step - loss: 0.4096 - accuracy: 0.8481 - val_loss: 0.4125 - val_accuracy: 0.8481\n",
            "Epoch 4/50\n",
            "318/318 [==============================] - 1s 2ms/step - loss: 0.4054 - accuracy: 0.8481 - val_loss: 0.4077 - val_accuracy: 0.8481\n",
            "Epoch 5/50\n",
            "318/318 [==============================] - 1s 2ms/step - loss: 0.4018 - accuracy: 0.8481 - val_loss: 0.4066 - val_accuracy: 0.8481\n",
            "Epoch 6/50\n",
            "318/318 [==============================] - 1s 2ms/step - loss: 0.4007 - accuracy: 0.8481 - val_loss: 0.4060 - val_accuracy: 0.8481\n",
            "Epoch 7/50\n",
            "318/318 [==============================] - 1s 2ms/step - loss: 0.3997 - accuracy: 0.8481 - val_loss: 0.4062 - val_accuracy: 0.8481\n",
            "Epoch 8/50\n",
            "318/318 [==============================] - 1s 2ms/step - loss: 0.3994 - accuracy: 0.8481 - val_loss: 0.4062 - val_accuracy: 0.8481\n",
            "Epoch 9/50\n",
            "318/318 [==============================] - 1s 2ms/step - loss: 0.3992 - accuracy: 0.8481 - val_loss: 0.4077 - val_accuracy: 0.8481\n",
            "Epoch 10/50\n",
            "318/318 [==============================] - 1s 2ms/step - loss: 0.3994 - accuracy: 0.8481 - val_loss: 0.4065 - val_accuracy: 0.8481\n",
            "Epoch 11/50\n",
            "318/318 [==============================] - 1s 2ms/step - loss: 0.3994 - accuracy: 0.8481 - val_loss: 0.4066 - val_accuracy: 0.8481\n",
            "Epoch 12/50\n",
            "318/318 [==============================] - 1s 2ms/step - loss: 0.3992 - accuracy: 0.8481 - val_loss: 0.4061 - val_accuracy: 0.8481\n",
            "Epoch 13/50\n",
            "318/318 [==============================] - 1s 2ms/step - loss: 0.3991 - accuracy: 0.8481 - val_loss: 0.4061 - val_accuracy: 0.8481\n",
            "Epoch 14/50\n",
            "318/318 [==============================] - 1s 2ms/step - loss: 0.3993 - accuracy: 0.8481 - val_loss: 0.4059 - val_accuracy: 0.8481\n",
            "Epoch 15/50\n",
            "318/318 [==============================] - 1s 2ms/step - loss: 0.3991 - accuracy: 0.8481 - val_loss: 0.4059 - val_accuracy: 0.8481\n",
            "Epoch 16/50\n",
            "318/318 [==============================] - 1s 2ms/step - loss: 0.3990 - accuracy: 0.8481 - val_loss: 0.4059 - val_accuracy: 0.8481\n",
            "Epoch 17/50\n",
            "318/318 [==============================] - 1s 2ms/step - loss: 0.3992 - accuracy: 0.8481 - val_loss: 0.4060 - val_accuracy: 0.8481\n",
            "Epoch 18/50\n",
            "318/318 [==============================] - 1s 2ms/step - loss: 0.3989 - accuracy: 0.8481 - val_loss: 0.4061 - val_accuracy: 0.8481\n",
            "Epoch 19/50\n",
            "318/318 [==============================] - 1s 2ms/step - loss: 0.3991 - accuracy: 0.8481 - val_loss: 0.4061 - val_accuracy: 0.8481\n",
            "Epoch 20/50\n",
            "318/318 [==============================] - 1s 2ms/step - loss: 0.3989 - accuracy: 0.8481 - val_loss: 0.4059 - val_accuracy: 0.8481\n",
            "Epoch 21/50\n",
            "318/318 [==============================] - 1s 2ms/step - loss: 0.3990 - accuracy: 0.8481 - val_loss: 0.4059 - val_accuracy: 0.8481\n",
            "Epoch 22/50\n",
            "318/318 [==============================] - 1s 2ms/step - loss: 0.3989 - accuracy: 0.8481 - val_loss: 0.4059 - val_accuracy: 0.8481\n",
            "Epoch 23/50\n",
            "318/318 [==============================] - 1s 2ms/step - loss: 0.3989 - accuracy: 0.8484 - val_loss: 0.4059 - val_accuracy: 0.8481\n",
            "Epoch 24/50\n",
            "318/318 [==============================] - 1s 2ms/step - loss: 0.3987 - accuracy: 0.8481 - val_loss: 0.4068 - val_accuracy: 0.8481\n",
            "Epoch 25/50\n",
            "318/318 [==============================] - 1s 2ms/step - loss: 0.3989 - accuracy: 0.8487 - val_loss: 0.4057 - val_accuracy: 0.8481\n",
            "Epoch 26/50\n",
            "318/318 [==============================] - 1s 2ms/step - loss: 0.3989 - accuracy: 0.8481 - val_loss: 0.4064 - val_accuracy: 0.8481\n",
            "Epoch 27/50\n",
            "318/318 [==============================] - 1s 2ms/step - loss: 0.3987 - accuracy: 0.8487 - val_loss: 0.4066 - val_accuracy: 0.8481\n",
            "Epoch 28/50\n",
            "318/318 [==============================] - 1s 2ms/step - loss: 0.3989 - accuracy: 0.8481 - val_loss: 0.4057 - val_accuracy: 0.8481\n",
            "Epoch 29/50\n",
            "318/318 [==============================] - 1s 2ms/step - loss: 0.3986 - accuracy: 0.8481 - val_loss: 0.4058 - val_accuracy: 0.8481\n",
            "Epoch 30/50\n",
            "318/318 [==============================] - 1s 2ms/step - loss: 0.3989 - accuracy: 0.8481 - val_loss: 0.4058 - val_accuracy: 0.8481\n",
            "Epoch 31/50\n",
            "318/318 [==============================] - 1s 2ms/step - loss: 0.3987 - accuracy: 0.8481 - val_loss: 0.4058 - val_accuracy: 0.8481\n",
            "Epoch 32/50\n",
            "318/318 [==============================] - 1s 2ms/step - loss: 0.3987 - accuracy: 0.8491 - val_loss: 0.4063 - val_accuracy: 0.8481\n",
            "Epoch 33/50\n",
            "318/318 [==============================] - 1s 2ms/step - loss: 0.3988 - accuracy: 0.8487 - val_loss: 0.4057 - val_accuracy: 0.8481\n",
            "Epoch 34/50\n",
            "318/318 [==============================] - 1s 2ms/step - loss: 0.3981 - accuracy: 0.8487 - val_loss: 0.4059 - val_accuracy: 0.8481\n",
            "Epoch 35/50\n",
            "318/318 [==============================] - 1s 2ms/step - loss: 0.3989 - accuracy: 0.8487 - val_loss: 0.4058 - val_accuracy: 0.8481\n",
            "Epoch 36/50\n",
            "318/318 [==============================] - 1s 2ms/step - loss: 0.3989 - accuracy: 0.8487 - val_loss: 0.4058 - val_accuracy: 0.8491\n",
            "Epoch 37/50\n",
            "318/318 [==============================] - 1s 2ms/step - loss: 0.3988 - accuracy: 0.8484 - val_loss: 0.4060 - val_accuracy: 0.8481\n",
            "Epoch 38/50\n",
            "318/318 [==============================] - 1s 2ms/step - loss: 0.3987 - accuracy: 0.8487 - val_loss: 0.4061 - val_accuracy: 0.8500\n",
            "Epoch 39/50\n",
            "318/318 [==============================] - 1s 2ms/step - loss: 0.3982 - accuracy: 0.8481 - val_loss: 0.4059 - val_accuracy: 0.8500\n",
            "Epoch 40/50\n",
            "318/318 [==============================] - 1s 2ms/step - loss: 0.3985 - accuracy: 0.8491 - val_loss: 0.4059 - val_accuracy: 0.8481\n",
            "Epoch 41/50\n",
            "318/318 [==============================] - 1s 2ms/step - loss: 0.3987 - accuracy: 0.8487 - val_loss: 0.4061 - val_accuracy: 0.8481\n",
            "Epoch 42/50\n",
            "318/318 [==============================] - 1s 2ms/step - loss: 0.3980 - accuracy: 0.8494 - val_loss: 0.4061 - val_accuracy: 0.8491\n",
            "Epoch 43/50\n",
            "318/318 [==============================] - 1s 2ms/step - loss: 0.3977 - accuracy: 0.8491 - val_loss: 0.4079 - val_accuracy: 0.8481\n",
            "Epoch 44/50\n",
            "318/318 [==============================] - 1s 2ms/step - loss: 0.3988 - accuracy: 0.8484 - val_loss: 0.4062 - val_accuracy: 0.8491\n",
            "Epoch 45/50\n",
            "318/318 [==============================] - 1s 2ms/step - loss: 0.3982 - accuracy: 0.8491 - val_loss: 0.4058 - val_accuracy: 0.8491\n",
            "Epoch 46/50\n",
            "318/318 [==============================] - 1s 2ms/step - loss: 0.3986 - accuracy: 0.8491 - val_loss: 0.4060 - val_accuracy: 0.8491\n",
            "Epoch 47/50\n",
            "318/318 [==============================] - 1s 2ms/step - loss: 0.3988 - accuracy: 0.8484 - val_loss: 0.4059 - val_accuracy: 0.8500\n",
            "Epoch 48/50\n",
            "318/318 [==============================] - 1s 2ms/step - loss: 0.3984 - accuracy: 0.8491 - val_loss: 0.4065 - val_accuracy: 0.8481\n",
            "Epoch 49/50\n",
            "318/318 [==============================] - 1s 2ms/step - loss: 0.3983 - accuracy: 0.8497 - val_loss: 0.4057 - val_accuracy: 0.8500\n",
            "Epoch 50/50\n",
            "318/318 [==============================] - 1s 2ms/step - loss: 0.3982 - accuracy: 0.8484 - val_loss: 0.4062 - val_accuracy: 0.8481\n"
          ]
        }
      ]
    },
    {
      "cell_type": "code",
      "source": [
        "# generate classification report using predictions for categorical model\n",
        "from sklearn.metrics import accuracy_score\n",
        "\n",
        "categorical_pred = np.argmax(model.predict(X_test), axis=1)\n",
        "\n",
        "print('Accuracy for sigmoid')\n",
        "print(accuracy_score(y_test, categorical_pred)*100)"
      ],
      "metadata": {
        "colab": {
          "base_uri": "https://localhost:8080/"
        },
        "id": "JdUIVI4jhqza",
        "outputId": "a255447c-85bd-4845-96ab-4c9c1cc2ff57"
      },
      "execution_count": null,
      "outputs": [
        {
          "output_type": "stream",
          "name": "stdout",
          "text": [
            "34/34 [==============================] - 0s 1ms/step\n",
            "Accuracy for sigmoid\n",
            "84.81132075471697\n"
          ]
        }
      ]
    },
    {
      "cell_type": "code",
      "source": [
        "import matplotlib.pyplot as plt\n",
        "%matplotlib inline\n",
        "# Model accuracy\n",
        "plt.plot(history.history['accuracy'])\n",
        "plt.plot(history.history['val_accuracy'])\n",
        "plt.title('Model Accuracy')\n",
        "plt.ylabel('accuracy')\n",
        "plt.xlabel('epoch')\n",
        "plt.legend(['train', 'test'])\n",
        "plt.show()"
      ],
      "metadata": {
        "colab": {
          "base_uri": "https://localhost:8080/",
          "height": 54
        },
        "id": "3rVSb7m0htD9",
        "outputId": "99ad149a-fbd7-4946-e930-ed4056f0d77b"
      },
      "execution_count": null,
      "outputs": [
        {
          "output_type": "display_data",
          "data": {
            "text/plain": [
              "<Figure size 432x288 with 1 Axes>"
            ],
            "image/png": "[encoded data removed]"
          },
          "metadata": {
            "needs_background": "light"
          }
        }
      ]
    },
    {
      "cell_type": "code",
      "source": [
        "# Model Losss\n",
        "plt.plot(history.history['loss'])\n",
        "plt.plot(history.history['val_loss'])\n",
        "plt.title('Model Loss')\n",
        "plt.ylabel('loss')\n",
        "plt.xlabel('epoch')\n",
        "plt.legend(['train', 'test'])\n",
        "plt.show()"
      ],
      "metadata": {
        "colab": {
          "base_uri": "https://localhost:8080/",
          "height": 54
        },
        "id": "W-dAc1B3hwmS",
        "outputId": "51db6776-015d-48c0-c4ba-5bb3b8fbf4bf"
      },
      "execution_count": null,
      "outputs": [
        {
          "output_type": "display_data",
          "data": {
            "text/plain": [
              "<Figure size 432x288 with 1 Axes>"
            ],
            "image/png": "[encoded data removed]"
          },
          "metadata": {
            "needs_background": "light"
          }
        }
      ]
    }
  ]
}